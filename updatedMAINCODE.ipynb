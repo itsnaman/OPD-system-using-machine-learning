{
 "cells": [
  {
   "cell_type": "code",
   "execution_count": null,
   "metadata": {},
   "outputs": [],
   "source": [
    "from mpl_toolkits.mplot3d import Axes3D\n",
    "from sklearn.preprocessing import StandardScaler\n",
    "import matplotlib.pyplot as plt\n",
    "import numpy as np\n",
    "import pandas as pd\n",
    "import os"
   ]
  },
  {
   "cell_type": "code",
   "execution_count": null,
   "metadata": {},
   "outputs": [],
   "source": [
    "from tkinter import *"
   ]
  },
  {
   "cell_type": "code",
   "execution_count": null,
   "metadata": {},
   "outputs": [],
   "source": [
    "from PIL import Image,ImageTk"
   ]
  },
  {
   "cell_type": "code",
   "execution_count": null,
   "metadata": {},
   "outputs": [],
   "source": [
    "from tkinter import messagebox"
   ]
  },
  {
   "cell_type": "code",
   "execution_count": null,
   "metadata": {},
   "outputs": [],
   "source": [
    "from matplotlib.backends.backend_tkagg import FigureCanvasTkAgg"
   ]
  },
  {
   "cell_type": "code",
   "execution_count": null,
   "metadata": {},
   "outputs": [],
   "source": [
    "import seaborn as sns"
   ]
  },
  {
   "cell_type": "code",
   "execution_count": null,
   "metadata": {},
   "outputs": [],
   "source": [
    "l1=['itching','skin_rash','nodal_skin_eruptions','continuous_sneezing','shivering','chills','joint_pain',\n",
    "    'stomach_pain','acidity','ulcers_on_tongue','muscle_wasting','vomiting','burning_micturition','spotting_ urination','fatigue',\n",
    "    'weight_gain','anxiety','cold_hands_and_feets','mood_swings','weight_loss','restlessness','lethargy','patches_in_throat',\n",
    "    'irregular_sugar_level','cough','high_fever','sunken_eyes','breathlessness','sweating','dehydration','indigestion',\n",
    "    'headache','yellowish_skin','dark_urine','nausea','loss_of_appetite','pain_behind_the_eyes','back_pain','constipation',\n",
    "    'abdominal_pain','diarrhoea','mild_fever','yellow_urine','yellowing_of_eyes','acute_liver_failure','fluid_overload',\n",
    "    'swelling_of_stomach','swelled_lymph_nodes','malaise','blurred_and_distorted_vision','phlegm','throat_irritation',\n",
    "    'redness_of_eyes','sinus_pressure','runny_nose','congestion','chest_pain','weakness_in_limbs','fast_heart_rate',\n",
    "    'pain_during_bowel_movements','pain_in_anal_region','bloody_stool','irritation_in_anus','neck_pain','dizziness','cramps',\n",
    "    'bruising','obesity','swollen_legs','swollen_blood_vessels','puffy_face_and_eyes','enlarged_thyroid','brittle_nails',\n",
    "    'swollen_extremeties','excessive_hunger','extra_marital_contacts','drying_and_tingling_lips','slurred_speech','knee_pain','hip_joint_pain',\n",
    "    'muscle_weakness','stiff_neck','swelling_joints','movement_stiffness','spinning_movements','loss_of_balance','unsteadiness','weakness_of_one_body_side',\n",
    "    'loss_of_smell','bladder_discomfort','foul_smell_of urine','continuous_feel_of_urine','passage_of_gases','internal_itching','toxic_look_(typhos)',\n",
    "    'depression','irritability','muscle_pain','altered_sensorium','red_spots_over_body','belly_pain','abnormal_menstruation','dischromic _patches',\n",
    "    'watering_from_eyes','increased_appetite','polyuria','family_history','mucoid_sputum','rusty_sputum','lack_of_concentration','visual_disturbances',\n",
    "    'receiving_blood_transfusion','receiving_unsterile_injections','coma','stomach_bleeding','distention_of_abdomen','history_of_alcohol_consumption',\n",
    "    'fluid_overload','blood_in_sputum','prominent_veins_on_calf','palpitations','painful_walking','pus_filled_pimples','blackheads','scurring','skin_peeling',\n",
    "    'silver_like_dusting','small_dents_in_nails','inflammatory_nails','blister','red_sore_around_nose','yellow_crust_ooze']\n",
    "\n",
    "\n",
    "OPTIONS=sorted(l1)"
   ]
  },
  {
   "cell_type": "code",
   "execution_count": null,
   "metadata": {},
   "outputs": [],
   "source": [
    "print(len(l1))"
   ]
  },
  {
   "cell_type": "code",
   "execution_count": null,
   "metadata": {},
   "outputs": [],
   "source": [
    "disease=['Covid-19','Fungal infection','Allergy','GERD','Chronic cholestasis','Drug Reaction',\n",
    "    'Peptic ulcer diseae','AIDS','Diabetes','Gastroenteritis','Bronchial Asthma','Hypertension',\n",
    "    ' Migraine','Cervical spondylosis',\n",
    "    'Paralysis (brain hemorrhage)','Jaundice','Malaria','Chicken pox','Dengue','Typhoid','hepatitis A',\n",
    "    'Hepatitis B','Hepatitis C','Hepatitis D','Hepatitis E','Alcoholic hepatitis','Tuberculosis',\n",
    "    'Common Cold','Pneumonia','Dimorphic hemmorhoids(piles)',\n",
    "    'Heartattack','Varicoseveins','Hypothyroidism','Hyperthyroidism','Hypoglycemia','Osteoarthristis',\n",
    "    'Arthritis','(vertigo) Paroymsal  Positional Vertigo','Acne','Urinary tract infection','Psoriasis',\n",
    "    'Impetigo']\n",
    "OPTIONS2=sorted(disease)"
   ]
  },
  {
   "cell_type": "code",
   "execution_count": null,
   "metadata": {},
   "outputs": [],
   "source": [
    "l2=[]\n",
    "for i in range(0,len(l1)):\n",
    "    l2.append(0)"
   ]
  },
  {
   "cell_type": "code",
   "execution_count": null,
   "metadata": {},
   "outputs": [],
   "source": [
    "df=pd.read_csv(\"training.csv\")"
   ]
  },
  {
   "cell_type": "code",
   "execution_count": null,
   "metadata": {},
   "outputs": [],
   "source": [
    "df.replace({'prognosis':{'Covid-19':0,'Fungal infection':1,'Allergy':2,'GERD':3,'Chronic cholestasis':4,'Drug Reaction':5,\n",
    "        'Peptic ulcer diseae':6,'AIDS':7,'Diabetes ':8,'Gastroenteritis':9,'Bronchial Asthma':10,'Hypertension ':11,\n",
    "    'Migraine':12,'Cervical spondylosis':13,\n",
    "    'Paralysis (brain hemorrhage)':14,'Jaundice':15,'Malaria':16,'Chicken pox':17,'Dengue':18,'Typhoid':19,'hepatitis A':20,\n",
    "    'Hepatitis B':21,'Hepatitis C':22,'Hepatitis D':23,'Hepatitis E':24,'Alcoholic hepatitis':25,'Tuberculosis':26,\n",
    "    'Common Cold':27,'Pneumonia':28,'Dimorphic hemmorhoids(piles)':29,'Heart attack':30,'Varicose veins':31,'Hypothyroidism':32,\n",
    "    'Hyperthyroidism':33,'Hypoglycemia':34,'Osteoarthristis':35,'Arthritis':36,\n",
    "    '(vertigo) Paroymsal  Positional Vertigo':37,'Acne':38,'Urinary tract infection':39,'Psoriasis':40,\n",
    "    'Impetigo':41}},inplace=True)\n"
   ]
  },
  {
   "cell_type": "code",
   "execution_count": null,
   "metadata": {},
   "outputs": [],
   "source": [
    "def plotPerColumnDistribution(df1, nGraphShown, nGraphPerRow):\n",
    "    nunique = df1.nunique()\n",
    "    df1 = df1[[col for col in df if nunique[col] > 1 and nunique[col] < 50]] # For displaying purposes, pick columns that have between 1 and 50 unique values\n",
    "    nRow, nCol = df1.shape\n",
    "    columnNames = list(df1)\n",
    "    nGraphRow = (nCol + nGraphPerRow - 1) / nGraphPerRow\n",
    "    plt.figure(num = None, figsize = (6 * nGraphPerRow, 8 * nGraphRow), dpi = 80, facecolor = 'w', edgecolor = 'k')\n",
    "    for i in range(min(nCol, nGraphShown)):\n",
    "        plt.subplot(nGraphRow, nGraphPerRow, i + 1)\n",
    "        columnDf = df.iloc[:, i]\n",
    "        if (not np.issubdtype(type(columnDf.iloc[0]), np.number)):\n",
    "            valueCounts = columnDf.value_counts()\n",
    "            valueCounts.plot.bar()\n",
    "        else:\n",
    "            columnDf.hist()\n",
    "        plt.ylabel('counts')\n",
    "        plt.xticks(rotation = 90)\n",
    "        plt.title(f'{columnNames[i]} (column {i})')\n",
    "    plt.tight_layout(pad = 1.0, w_pad = 1.0, h_pad = 1.0)\n",
    "    plt.show()"
   ]
  },
  {
   "cell_type": "code",
   "execution_count": null,
   "metadata": {},
   "outputs": [],
   "source": [
    "def plotScatterMatrix(df1, plotSize, textSize):\n",
    "    df1 = df1.select_dtypes(include =[np.number]) # keep only numerical columns\n",
    "    # Remove rows and columns that would lead to df being singular\n",
    "    df1 = df1.dropna('columns')\n",
    "    df1 = df1[[col for col in df if df[col].nunique() > 1]] # keep columns where there are more than 1 unique values\n",
    "    columnNames = list(df)\n",
    "    if len(columnNames) > 10: # reduce the number of columns for matrix inversion of kernel density plots\n",
    "        columnNames = columnNames[:10]\n",
    "    df1 = df1[columnNames]\n",
    "    ax = pd.plotting.scatter_matrix(df1, alpha=0.75, figsize=[plotSize, plotSize], diagonal='kde')\n",
    "    corrs = df1.corr().values\n",
    "    for i, j in zip(*plt.np.triu_indices_from(ax, k = 1)):\n",
    "        ax[i, j].annotate('Corr. coef = %.3f' % corrs[i, j], (0.8, 0.2), xycoords='axes fraction', ha='center', va='center', size=textSize)\n",
    "    plt.suptitle('Scatter and Density Plot')\n",
    "    plt.show()"
   ]
  },
  {
   "cell_type": "code",
   "execution_count": null,
   "metadata": {},
   "outputs": [],
   "source": [
    "'''plotPerColumnDistribution(df, 10, 5)\n",
    "plotScatterMatrix(df, 20, 10)'''"
   ]
  },
  {
   "cell_type": "code",
   "execution_count": null,
   "metadata": {},
   "outputs": [],
   "source": [
    "X= df[l1]\n",
    "y = df[[\"prognosis\"]]\n",
    "np.ravel(y)\n",
    "print(X)\n",
    "print(y)"
   ]
  },
  {
   "cell_type": "code",
   "execution_count": null,
   "metadata": {},
   "outputs": [],
   "source": [
    "tr=pd.read_csv(\"testing.csv\")"
   ]
  },
  {
   "cell_type": "code",
   "execution_count": null,
   "metadata": {},
   "outputs": [],
   "source": [
    "tr.replace({'prognosis':{'Covid-19':0,'Fungal infection':1,'Allergy':2,'GERD':3,'Chronic cholestasis':4,'Drug Reaction':5,\n",
    "        'Peptic ulcer diseae':6,'AIDS':7,'Diabetes ':8,'Gastroenteritis':9,'Bronchial Asthma':10,'Hypertension ':11,\n",
    "    'Migraine':12,'Cervical spondylosis':13,\n",
    "    'Paralysis (brain hemorrhage)':14,'Jaundice':15,'Malaria':16,'Chicken pox':17,'Dengue':18,'Typhoid':19,'hepatitis A':20,\n",
    "    'Hepatitis B':21,'Hepatitis C':22,'Hepatitis D':23,'Hepatitis E':24,'Alcoholic hepatitis':25,'Tuberculosis':26,\n",
    "    'Common Cold':27,'Pneumonia':28,'Dimorphic hemmorhoids(piles)':29,'Heart attack':30,'Varicose veins':31,'Hypothyroidism':32,\n",
    "    'Hyperthyroidism':33,'Hypoglycemia':34,'Osteoarthristis':35,'Arthritis':36,\n",
    "    '(vertigo) Paroymsal  Positional Vertigo':37,'Acne':38,'Urinary tract infection':39,'Psoriasis':40,\n",
    "    'Impetigo':41}},inplace=True)\n"
   ]
  },
  {
   "cell_type": "code",
   "execution_count": null,
   "metadata": {
    "scrolled": true
   },
   "outputs": [],
   "source": [
    "'''plotPerColumnDistribution(tr, 10, 5)\n",
    "plotScatterMatrix(tr, 20, 10)'''"
   ]
  },
  {
   "cell_type": "code",
   "execution_count": null,
   "metadata": {},
   "outputs": [],
   "source": [
    "X_test= tr[l1]\n",
    "y_test = tr[[\"prognosis\"]]\n",
    "np.ravel(y_test)\n",
    "print(X_test)\n",
    "print(y_test)"
   ]
  },
  {
   "cell_type": "code",
   "execution_count": null,
   "metadata": {},
   "outputs": [],
   "source": [
    "def scatterplt(disea):\n",
    "    x = ((df.loc[disea]).sum())#total sum of symptom reported for given disease\n",
    "    x.drop(x[x==0].index,inplace=True)#droping symptoms with values 0\n",
    "    print(x.values)\n",
    "    y = x.keys()#storing nameof symptoms in y\n",
    "    print(len(x))\n",
    "    print(len(y))\n",
    "    plt.title(disea)\n",
    "    plt.scatter(y,x.values)\n",
    "    plt.show()"
   ]
  },
  {
   "cell_type": "code",
   "execution_count": null,
   "metadata": {},
   "outputs": [],
   "source": [
    "def scatterinp(sym1,sym2,sym3,sym4,sym5):\n",
    "    x = [sym1,sym2,sym3,sym4,sym5]#storing input symptoms in y\n",
    "    y = [0,0,0,0,0]#creating and giving values to the input symptoms\n",
    "    if(sym1!='Select Here'):\n",
    "        y[0]=1\n",
    "    if(sym2!='Select Here'):\n",
    "        y[1]=1\n",
    "    if(sym3!='Select Here'):\n",
    "        y[2]=1\n",
    "    if(sym4!='Select Here'):\n",
    "        y[3]=1\n",
    "    if(sym5!='Select Here'):\n",
    "        y[4]=1\n",
    "    print(x)\n",
    "    print(y)\n",
    "    plt.scatter(x,y)\n",
    "    plt.show()"
   ]
  },
  {
   "cell_type": "code",
   "execution_count": null,
   "metadata": {},
   "outputs": [],
   "source": [
    "frame1=Tk()"
   ]
  },
  {
   "cell_type": "code",
   "execution_count": null,
   "metadata": {},
   "outputs": [],
   "source": [
    "pred1=StringVar()"
   ]
  },
  {
   "cell_type": "code",
   "execution_count": null,
   "metadata": {},
   "outputs": [],
   "source": [
    "    Symptom1 = StringVar()\n",
    "    Symptom1.set(\"Select Here\")        \n",
    "    Symptom2 = StringVar()\n",
    "    Symptom2.set(\"Select Here\")\n",
    "    Symptom3 = StringVar()\n",
    "    Symptom3.set(\"Select Here\")\n",
    "    Symptom4 = StringVar()\n",
    "    Symptom4.set(\"Select Here\")\n",
    "    Symptom5 = StringVar()\n",
    "    Symptom5.set(\"Select Here\")\n",
    "    Disease = StringVar()\n",
    "    Disease.set(\"Select Here\") "
   ]
  },
  {
   "cell_type": "code",
   "execution_count": null,
   "metadata": {},
   "outputs": [],
   "source": [
    "def bysymptoms():\n",
    "    frame2=Toplevel(frame1)\n",
    "    frame2.geometry(\"600x600\")\n",
    "    frame2.title('Enter Symptoms')\n",
    "\n",
    "    label1=Label(frame2,text=\"Please Enter Your Symptoms To Diagnose Yourself\", bg=\"silver\",relief=\"solid\",font=(\"arial\",16,\"bold\")).pack(fill=BOTH, pady=20,padx=20)\n",
    "\n",
    "   \n",
    "   \n",
    "    S1Lb = Label(frame2, text=\"Please select Symptom 1\", fg=\"Black\", bg=\"silver\",relief=\"solid\",font=(\"Times\",13,\"bold\")).place(relx=0.10,rely=0.16)\n",
    "    S2Lb = Label(frame2, text=\"Please select Symptom 2\", fg=\"Black\", bg=\"silver\",relief=\"solid\",font=(\"Times\",13,\"bold\")).place(relx=0.10,rely=0.22)\n",
    "    S3Lb = Label(frame2, text=\"Please select Symptom 3\", fg=\"Black\", bg=\"silver\",relief=\"solid\",font=(\"Times\",13,\"bold\")).place(relx=0.10,rely=0.28)\n",
    "    S4Lb = Label(frame2, text=\"Please select Symptom 4\", fg=\"Black\", bg=\"silver\",relief=\"solid\",font=(\"Times\",13,\"bold\")).place(relx=0.10,rely=0.34)\n",
    "    S5Lb = Label(frame2, text=\"Please select Symptom 5\", fg=\"Black\", bg=\"silver\",relief=\"solid\",font=(\"Times\",13,\"bold\")).place(relx=0.10,rely=0.40)\n",
    "\n",
    " \n",
    "\n",
    "\n",
    "    S1 = OptionMenu(frame2,Symptom1,*OPTIONS).place(relx=0.70,rely=0.16)\n",
    "    S2 = OptionMenu(frame2,Symptom2,*OPTIONS).place(relx=0.70,rely=0.22)\n",
    "    S3 = OptionMenu(frame2,Symptom3,*OPTIONS).place(relx=0.70,rely=0.28)\n",
    "    S4 = OptionMenu(frame2,Symptom4,*OPTIONS).place(relx=0.70,rely=0.34)\n",
    "    S5 = OptionMenu(frame2,Symptom5,*OPTIONS).place(relx=0.70,rely=0.40)\n",
    "\n",
    "    lbl=Label(frame2, text=\"You Might Have the Following Disease(s):- \",relief=\"solid\",bg=\"silver\",font=(\"Times\",19,\"bold italic\")).place(relx=0.10,rely=0.50)\n",
    "\n",
    "    dst = Button(frame2, text=\" By  Decision tree  \", fg=\"Black\", bg=\"silver\",relief=RAISED,font=(\"Times\",13,\"bold\"),command=DecisionTree).place(relx=0.10,rely=0.63)\n",
    "    rnf = Button(frame2, text=\"By Random Forest\", fg=\"Black\", bg=\"silver\",relief=RAISED,font=(\"Times\",13,\"bold\"),command=randomforest).place(relx=0.10,rely=0.69)\n",
    "    lr = Button(frame2,  text=\"   By  Naive  Bayes \", fg=\"Black\", bg=\"silver\",relief=RAISED,font=(\"Times\",13,\"bold\"),command=NaiveBayes).place(relx=0.10,rely=0.75)\n",
    "    #kn = Button(frame2,  text=\"        By  K N N        \", fg=\"Black\", bg=\"silver\",relief=RAISED,font=(\"Times\",13,\"bold\"),command=NaiveBayes).place(relx=0.10,rely=0.81)\n",
    "    rs = Button(frame2,text=\"Reset Inputs\", bg=\"silver\",relief=RAISED,font=(\"Times\",13,\"bold\"),command=Reset).place(relx=0.10,rely=0.81)\n",
    "\n",
    "    t1=Label(frame2,font=(\"Times\",10,\"bold italic\"),width=15,textvariable=pred1,relief=\"sunken\").place(relx=0.70,rely=0.63)\n",
    "    t2=Label(frame2,font=(\"Times\",10,\"bold italic\"),width=15,textvariable=pred2,relief=\"sunken\").place(relx=0.70,rely=0.69)\n",
    "    t3=Label(frame2,font=(\"Times\",10,\"bold italic\"),width=15,textvariable=pred3,relief=\"sunken\").place(relx=0.70,rely=0.75)\n",
    "\n",
    "    frame2.mainloop()\n"
   ]
  },
  {
   "cell_type": "code",
   "execution_count": null,
   "metadata": {},
   "outputs": [],
   "source": [
    "pred2=StringVar()\n",
    "def randomforest():\n",
    "    if((Symptom1.get()==\"Select Here\") or (Symptom2.get()==\"Select Here\")):\n",
    "        pred1.set(\" \")\n",
    "        sym=messagebox.askokcancel(\"System\",\"Kindly Fill atleast first two Symptoms\")\n",
    "        if sym:\n",
    "            frame1.mainloop()\n",
    "    else:\n",
    "        from sklearn.ensemble import RandomForestClassifier\n",
    "        clf4 = RandomForestClassifier(n_estimators=100)\n",
    "        clf4 = clf4.fit(X,np.ravel(y))\n",
    "\n",
    "        # calculating accuracy \n",
    "        from sklearn.metrics import classification_report,confusion_matrix,accuracy_score\n",
    "        y_pred=clf4.predict(X_test)\n",
    "        print(\"Random Forest\")\n",
    "        print(\"Accuracy\")\n",
    "        print(accuracy_score(y_test, y_pred))\n",
    "        print(accuracy_score(y_test, y_pred,normalize=False))\n",
    "        print(\"Confusion matrix\")\n",
    "        conf_matrix=confusion_matrix(y_test,y_pred)\n",
    "        print(conf_matrix)\n",
    "    \n",
    "        psymptoms = [Symptom1.get(),Symptom2.get(),Symptom3.get(),Symptom4.get(),Symptom5.get()]\n",
    "\n",
    "        for k in range(0,len(l1)):\n",
    "            for z in psymptoms:\n",
    "                if(z==l1[k]):\n",
    "                    l2[k]=1\n",
    "\n",
    "        inputtest = [l2]\n",
    "        predict = clf4.predict(inputtest)\n",
    "        predicted=predict[0]\n",
    "\n",
    "        h='no'\n",
    "        for a in range(0,len(disease)):\n",
    "            if(predicted == a):\n",
    "                h='yes'\n",
    "                break\n",
    "        if (h=='yes'):\n",
    "            pred2.set(\" \")\n",
    "            pred2.set(disease[a])\n",
    "        else:\n",
    "            pred2.set(\" \")\n",
    "            pred2.set(\"Not Found\")\n",
    "        import sqlite3 \n",
    "        conn = sqlite3.connect('database.db') \n",
    "        c = conn.cursor() \n",
    "        c.execute(\"CREATE TABLE IF NOT EXISTS RandomForest(Symtom1 StringVar,Symtom2 StringVar,Symtom3 StringVar,Symtom4 TEXT,Symtom5 TEXT,Disease StringVar)\")\n",
    "        c.execute(\"INSERT INTO RandomForest(Symtom1,Symtom2,Symtom3,Symtom4,Symtom5,Disease) VALUES(?,?,?,?,?,?)\",(Symptom1.get(),Symptom2.get(),Symptom3.get(),Symptom4.get(),Symptom5.get(),pred2.get()))\n",
    "        conn.commit()  \n",
    "        c.close() \n",
    "        conn.close()\n",
    "        #printing scatter plot of disease predicted vs its symptoms\n",
    "        scatterplt(pred2.get())"
   ]
  },
  {
   "cell_type": "code",
   "execution_count": null,
   "metadata": {},
   "outputs": [],
   "source": [
    "pred3=StringVar()\n",
    "def NaiveBayes():\n",
    "    if((Symptom1.get()==\"Select Here\") or (Symptom2.get()==\"Select Here\")):\n",
    "        pred1.set(\" \")\n",
    "        sym=messagebox.askokcancel(\"System\",\"Kindly Fill atleast first two Symptoms\")\n",
    "        if sym:\n",
    "            frame2.mainloop()\n",
    "    else:\n",
    "        from sklearn.naive_bayes import GaussianNB\n",
    "        gnb = GaussianNB()\n",
    "        gnb=gnb.fit(X,np.ravel(y))\n",
    "\n",
    "        from sklearn.metrics import classification_report,confusion_matrix,accuracy_score\n",
    "        y_pred=gnb.predict(X_test)\n",
    "        print(\"Naive Bayes\")\n",
    "        print(\"Accuracy\")\n",
    "        print(accuracy_score(y_test, y_pred))\n",
    "        print(accuracy_score(y_test, y_pred,normalize=False))\n",
    "        print(\"Confusion matrix\")\n",
    "        conf_matrix=confusion_matrix(y_test,y_pred)\n",
    "        print(conf_matrix)\n",
    "\n",
    "        psymptoms = [Symptom1.get(),Symptom2.get(),Symptom3.get(),Symptom4.get(),Symptom5.get()]\n",
    "        for k in range(0,len(l1)):\n",
    "            for z in psymptoms:\n",
    "                if(z==l1[k]):\n",
    "                    l2[k]=1\n",
    "\n",
    "        inputtest = [l2]\n",
    "        predict = gnb.predict(inputtest)\n",
    "        predicted=predict[0]\n",
    "\n",
    "        h='no'\n",
    "        for a in range(0,len(disease)):\n",
    "            if(predicted == a):\n",
    "                h='yes'\n",
    "                break\n",
    "        if (h=='yes'):\n",
    "            pred3.set(\" \")\n",
    "            pred3.set(disease[a])\n",
    "        else:\n",
    "            pred3.set(\" \")\n",
    "            pred3.set(\"Not Found\")\n",
    "        import sqlite3 \n",
    "        conn = sqlite3.connect('database.db') \n",
    "        c = conn.cursor() \n",
    "        c.execute(\"CREATE TABLE IF NOT EXISTS NaiveBayes(Symtom1 StringVar,Symtom2 StringVar,Symtom3 StringVar,Symtom4 TEXT,Symtom5 TEXT,Disease StringVar)\")\n",
    "        c.execute(\"INSERT INTO NaiveBayes(Symtom1,Symtom2,Symtom3,Symtom4,Symtom5,Disease) VALUES(?,?,?,?,?,?)\",(Symptom1.get(),Symptom2.get(),Symptom3.get(),Symptom4.get(),Symptom5.get(),pred3.get()))\n",
    "        conn.commit()  \n",
    "        c.close() \n",
    "        conn.close()\n",
    "         #printing scatter plot of disease predicted vs its symptoms\n",
    "        scatterplt(pred3.get())"
   ]
  },
  {
   "cell_type": "code",
   "execution_count": null,
   "metadata": {},
   "outputs": [],
   "source": [
    "pred1=StringVar()\n",
    "def DecisionTree():\n",
    "    if((Symptom1.get()==\"Select Here\") or (Symptom2.get()==\"Select Here\")):\n",
    "        pred1.set(\" \")\n",
    "        sym=messagebox.askokcancel(\"System\",\"Kindly Fill atleast first two Symptoms\")\n",
    "        if sym:\n",
    "            frame1.mainloop()\n",
    "    else:\n",
    "        from sklearn import tree\n",
    "\n",
    "        clf3 = tree.DecisionTreeClassifier() \n",
    "        clf3 = clf3.fit(X,y)\n",
    "\n",
    "        from sklearn.metrics import classification_report,confusion_matrix,accuracy_score\n",
    "        y_pred=clf3.predict(X_test)\n",
    "        print(\"Decision Tree\")\n",
    "        print(\"Accuracy\")\n",
    "        print(accuracy_score(y_test, y_pred))\n",
    "        print(accuracy_score(y_test, y_pred,normalize=False))\n",
    "        print(\"Confusion matrix\")\n",
    "        conf_matrix=confusion_matrix(y_test,y_pred)\n",
    "        print(conf_matrix)\n",
    "\n",
    "        psymptoms = [Symptom1.get(),Symptom2.get(),Symptom3.get(),Symptom4.get(),Symptom5.get()]\n",
    "\n",
    "        for k in range(0,len(l1)):\n",
    "            for z in psymptoms:\n",
    "                if(z==l1[k]):\n",
    "                    l2[k]=1\n",
    "\n",
    "        inputtest = [l2]\n",
    "        predict = clf3.predict(inputtest)\n",
    "        predicted=predict[0]\n",
    "\n",
    "        h='no'\n",
    "        for a in range(0,len(disease)):\n",
    "            if(predicted == a):\n",
    "                h='yes'\n",
    "                break\n",
    "\n",
    "    \n",
    "        if (h=='yes'):\n",
    "            pred1.set(\" \")\n",
    "            pred1.set(disease[a])\n",
    "        else:\n",
    "            pred1.set(\" \")\n",
    "            pred1.set(\"Not Found\")\n",
    "        import sqlite3 \n",
    "        conn = sqlite3.connect('database.db') \n",
    "        c = conn.cursor() \n",
    "        c.execute(\"CREATE TABLE IF NOT EXISTS DecisionTree(Symtom1 StringVar,Symtom2 StringVar,Symtom3 StringVar,Symtom4 TEXT,Symtom5 TEXT,Disease StringVar)\")\n",
    "        c.execute(\"INSERT INTO DecisionTree(Symtom1,Symtom2,Symtom3,Symtom4,Symtom5,Disease) VALUES(?,?,?,?,?,?)\",(Symptom1.get(),Symptom2.get(),Symptom3.get(),Symptom4.get(),Symptom5.get(),pred1.get()))\n",
    "        conn.commit()  \n",
    "        c.close() \n",
    "        conn.close()\n",
    "        #printing scatter plot of input symptoms\n",
    "        #printing scatter plot of disease predicted vs its symptoms\n",
    "        scatterinp(Symptom1.get(),Symptom2.get(),Symptom3.get(),Symptom4.get(),Symptom5.get())\n",
    "        scatterplt(pred1.get())"
   ]
  },
  {
   "cell_type": "code",
   "execution_count": null,
   "metadata": {},
   "outputs": [],
   "source": [
    "prev_win=None\n",
    "def Reset():\n",
    "    global prev_win\n",
    "\n",
    "    Symptom1.set(\"Select Here\")\n",
    "    Symptom2.set(\"Select Here\")\n",
    "    Symptom3.set(\"Select Here\")\n",
    "    Symptom4.set(\"Select Here\")\n",
    "    Symptom5.set(\"Select Here\")\n",
    "    Disease.set(\" \")\n",
    "    \n",
    "    pred1.set(\" \")\n",
    "    pred2.set(\" \")\n",
    "    pred3.set(\" \")\n",
    "    try:\n",
    "        prev_win.destroy()\n",
    "        prev_win=None\n",
    "    except AttributeError:\n",
    "        pass"
   ]
  },
  {
   "cell_type": "code",
   "execution_count": null,
   "metadata": {},
   "outputs": [],
   "source": [
    "def chkcvd():\n",
    "    frame3=Toplevel(frame1)\n",
    "    frame3.geometry(\"1200x700\")\n",
    "    frame3.title(\"Covid-19 Insights\")\n",
    "    lb=Label(frame3,text=\"Current Situation of Covid-19 in India\", relief=\"solid\", bg=\"silver\",font=(\"arial\",16,\"bold\")).pack(fill=BOTH,padx=20,pady=20)\n",
    "    df = pd.read_csv('covid_19_india.csv')\n",
    "    sns.set(style=\"white\")\n",
    "    f1, ax = plt.subplots(figsize=(8, 8))\n",
    "    sns.lineplot(x = \"Date\", y = \"Cured\", data = df)\n",
    "    plt.ylabel(\"Cured\")\n",
    "    fig1 = f1\n",
    "    canvas1 = FigureCanvasTkAgg(fig1, master=frame3)\n",
    "    canvas1.draw()\n",
    "    canvas1.get_tk_widget().place(relx=0.03,rely=0.1)    \n",
    "    f2, ax = plt.subplots(figsize=(8, 8))\n",
    "    sns.lineplot(x = \"Date\", y = \"Confirmed\", data = df)\n",
    "    plt.ylabel(\"Confirmed\")\n",
    "    fig2 = f2\n",
    "    canvas2 = FigureCanvasTkAgg(fig2, master=frame3)\n",
    "    canvas2.draw()\n",
    "    canvas2.get_tk_widget().place(relx=0.5,rely=0.1)\n",
    "    frame3.mainloop()"
   ]
  },
  {
   "cell_type": "code",
   "execution_count": null,
   "metadata": {},
   "outputs": [],
   "source": [
    "\n",
    "def chksyt():\n",
    "    frame4=Toplevel(frame1)\n",
    "    frame4.geometry(\"600x600\")\n",
    "    frame4.title(\"Check Symptoms\")\n",
    "    \n",
    "    lb=Label(frame4,text=\"Symptoms of various Diseases :-\",relief=\"solid\", bg=\"silver\",font=(\"arial\",16,\"bold\")).pack(fill=BOTH,padx=20,pady=20)\n",
    "    D = OptionMenu(frame4,Disease,*OPTIONS2).place(relx=0.70,rely=0.15)\n",
    "    DLb = Label(frame4, text=\"Please select the Disease \", fg=\"Black\", bg=\"silver\",relief=\"solid\",font=(\"Times\",13,\"bold\")).place(relx=0.10,rely=0.16)\n",
    "    lbl=Label(frame4, text=\"Following are the symptom(s) of selected Disease:- \",font=(\"Times\",16,\"bold italic\")).place(relx=0.05,rely=0.27)\n",
    "    \n",
    "    x=Disease\n",
    "    \n",
    "    df=pd.read_csv(\"testing.csv\")\n",
    "    df1=df.T\n",
    "    df1=df.set_index('prognosis')\n",
    "    df2=df1.T\n",
    "    y=df2.loc[:,x]\n",
    "    z=y.to_frame()\n",
    "    q=z[z[x]==1]\n",
    "    lst=list(q.index)\n",
    "    t = Text(frame4)\n",
    "    for x in lst:\n",
    "        t.insert(END, x + '\\n')\n",
    "    \n",
    "    \n",
    "    \n",
    "    t.pack()\n",
    "    \n",
    "    frame4.mainloop()\n",
    "    \n",
    "    \n",
    "    \n",
    "    \n",
    "    \n",
    "    \n",
    "    \n",
    "    \n",
    "    \n",
    "    \n",
    "    "
   ]
  },
  {
   "cell_type": "code",
   "execution_count": null,
   "metadata": {},
   "outputs": [],
   "source": [
    "\n",
    "frame1.title(\"DR.Healthy\")\n",
    "frame1.geometry(\"600x600\")\n",
    "\n",
    "label1=Label(frame1, text=\"Welcome to DR.Health - Your personal physician\", bg=\"silver\",relief=\"solid\",font=(\"arial\",16,\"bold\"))\n",
    "label1.pack(fill=BOTH,padx=20,pady=20)\n",
    "\n",
    "img=Image.open(\"C:/Users/DELL/Desktop/b0c89a8749054f64a17f658ea1fd52cb (3).png\")\n",
    "img=ImageTk.PhotoImage(img)\n",
    "\n",
    "logo=Label(image=img).pack()\n",
    "\n",
    "label2=Label(frame1, text=\"Consult your personal doctor about the symptoms that you are having\",font=(\"arial\",10,\"italic\")).pack()\n",
    "label3=Label(frame1, text=\"OR\",font=(\"arial\",10,\"italic\")).pack()\n",
    "label4=Label(frame1, text=\"Check the symptoms for diseases that you feel you might have\",font=(\"arial\",10,\"italic\")).pack()\n",
    "\n",
    "button1=Button(frame1,text=\"Enter Symptoms\",bg=\"grey\",relief=RAISED,font=(\"arial\",12,\"bold\"),command=bysymptoms).pack(fill=BOTH, padx=2,pady=10)\n",
    "\n",
    "button2=Button(frame1,text=\"Check symptoms\",bg=\"grey\",relief=RAISED,font=(\"arial\",12,\"bold\"),command=chksyt).pack(fill=BOTH, padx=2,pady=10)\n",
    "button3=Button(frame1,text=\"Check Covid-19 Insights\",bg=\"red\",fg=\"yellow\",relief=RAISED,font=(\"arial\",12,\"bold\"),command=chkcvd).pack(fill=BOTH, padx=2,pady=10)\n",
    "label5=Label(frame1, text=\"About us :- This a college level project determined to provide OPD services through various machine learning algorithms.\",font=(\"arial\",8,\"italic\")).pack()\n"
   ]
  },
  {
   "cell_type": "code",
   "execution_count": null,
   "metadata": {},
   "outputs": [],
   "source": [
    "frame1.mainloop()"
   ]
  },
  {
   "cell_type": "code",
   "execution_count": null,
   "metadata": {},
   "outputs": [],
   "source": []
  },
  {
   "cell_type": "code",
   "execution_count": null,
   "metadata": {},
   "outputs": [],
   "source": []
  }
 ],
 "metadata": {
  "kernelspec": {
   "display_name": "Python 3",
   "language": "python",
   "name": "python3"
  },
  "language_info": {
   "codemirror_mode": {
    "name": "ipython",
    "version": 3
   },
   "file_extension": ".py",
   "mimetype": "text/x-python",
   "name": "python",
   "nbconvert_exporter": "python",
   "pygments_lexer": "ipython3",
   "version": "3.7.6"
  }
 },
 "nbformat": 4,
 "nbformat_minor": 4
}
